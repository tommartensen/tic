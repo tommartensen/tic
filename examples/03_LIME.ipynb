{
 "cells": [
  {
   "cell_type": "markdown",
   "metadata": {},
   "source": [
    "# LIME in Use\n",
    "\n",
    "To simplify the use of LIME, TIC provides a wrapper."
   ]
  },
  {
   "cell_type": "markdown",
   "metadata": {},
   "source": [
    "## Preparation"
   ]
  },
  {
   "cell_type": "code",
   "execution_count": null,
   "metadata": {},
   "outputs": [],
   "source": [
    "%load_ext autoreload\n",
    "%autoreload 2"
   ]
  },
  {
   "cell_type": "code",
   "execution_count": null,
   "metadata": {},
   "outputs": [],
   "source": [
    "import pickle\n",
    "\n",
    "from tic import load_test_data\n",
    "from tic.interpret.lime import explain_instance, explain_dataset"
   ]
  },
  {
   "cell_type": "code",
   "execution_count": null,
   "metadata": {},
   "outputs": [],
   "source": [
    "test_data = load_test_data()\n",
    "\n",
    "class_names = test_data['target_names']\n",
    "feature_names = test_data['feature_names']\n",
    "instance = test_data['dataset']['X_test'].sample(1).values[0]\n",
    "clf = pickle.load(open('.classifiers/logistic_regression.clf', 'rb'))"
   ]
  },
  {
   "cell_type": "markdown",
   "metadata": {},
   "source": [
    "### Explain a single instance"
   ]
  },
  {
   "cell_type": "code",
   "execution_count": null,
   "metadata": {},
   "outputs": [],
   "source": [
    "explain_instance(\n",
    "    clf=clf,\n",
    "    instance=instance,\n",
    "    training_data=test_data['dataset']['X_train'],\n",
    "    feature_names=feature_names,\n",
    "    class_names=class_names,\n",
    "    explanation_kwargs={'num_features': 5}\n",
    ")"
   ]
  },
  {
   "cell_type": "markdown",
   "metadata": {},
   "source": [
    "### Create an explanation for the whole dataset"
   ]
  },
  {
   "cell_type": "code",
   "execution_count": null,
   "metadata": {
    "scrolled": true
   },
   "outputs": [],
   "source": [
    "explain_dataset(\n",
    "    clf=clf,\n",
    "    training_data=test_data['dataset']['X_train'],\n",
    "    feature_names=feature_names,\n",
    "    class_names=class_names,\n",
    "    explanation_kwargs={'sample_size': 100}\n",
    ")"
   ]
  }
 ],
 "metadata": {
  "kernelspec": {
   "display_name": "Python 3",
   "language": "python",
   "name": "python3"
  },
  "language_info": {
   "codemirror_mode": {
    "name": "ipython",
    "version": 3
   },
   "file_extension": ".py",
   "mimetype": "text/x-python",
   "name": "python",
   "nbconvert_exporter": "python",
   "pygments_lexer": "ipython3",
   "version": "3.6.9"
  }
 },
 "nbformat": 4,
 "nbformat_minor": 2
}
