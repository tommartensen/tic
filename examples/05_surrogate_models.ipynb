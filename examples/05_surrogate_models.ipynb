{
 "cells": [
  {
   "cell_type": "code",
   "execution_count": null,
   "metadata": {},
   "outputs": [],
   "source": [
    "%load_ext autoreload\n",
    "%autoreload 2"
   ]
  },
  {
   "cell_type": "code",
   "execution_count": null,
   "metadata": {
    "scrolled": true
   },
   "outputs": [],
   "source": [
    "import pickle\n",
    "\n",
    "from tic import load_test_data\n",
    "from tic.interpret.surrogate import explain_global"
   ]
  },
  {
   "cell_type": "code",
   "execution_count": null,
   "metadata": {
    "scrolled": true
   },
   "outputs": [],
   "source": [
    "test_data = load_test_data()\n",
    "\n",
    "class_names = list(test_data['target_names'])\n",
    "feature_names = test_data['feature_names']\n",
    "X_train = test_data['dataset']['X_train']\n",
    "clf = pickle.load(open('.classifiers/logistic_regression.clf', 'rb'))"
   ]
  },
  {
   "cell_type": "markdown",
   "metadata": {},
   "source": [
    "## Logistic Regression as Surrogate"
   ]
  },
  {
   "cell_type": "code",
   "execution_count": null,
   "metadata": {
    "scrolled": true
   },
   "outputs": [],
   "source": [
    "explain_global(\n",
    "    clf=clf_lr,\n",
    "    num_features=5,\n",
    "    X_train=X_train,\n",
    "    surrogate_type='linear',\n",
    "    surrogate_kwargs={'solver': 'liblinear'}\n",
    ")"
   ]
  },
  {
   "cell_type": "markdown",
   "metadata": {},
   "source": [
    "# Decision Tree as Surrogate"
   ]
  },
  {
   "cell_type": "code",
   "execution_count": null,
   "metadata": {},
   "outputs": [],
   "source": [
    "explain_global(\n",
    "    clf=clf_lr,\n",
    "    num_features=5,\n",
    "    X_train=X_train,\n",
    "    surrogate_type='tree'\n",
    ")"
   ]
  },
  {
   "cell_type": "markdown",
   "metadata": {},
   "source": [
    "# Surrogate models can be created for any sklearn classifier"
   ]
  },
  {
   "cell_type": "code",
   "execution_count": null,
   "metadata": {},
   "outputs": [],
   "source": [
    "clf_mlp = pickle.load(open('.classifiers/multi_layer_perceptron.clf', 'rb'))\n",
    "\n",
    "explain_global(\n",
    "    clf=clf_mlp,\n",
    "    num_features=5,\n",
    "    X_train=X_train,\n",
    "    surrogate_type='tree'\n",
    ")"
   ]
  }
 ],
 "metadata": {
  "kernelspec": {
   "display_name": "Python 3",
   "language": "python",
   "name": "python3"
  },
  "language_info": {
   "codemirror_mode": {
    "name": "ipython",
    "version": 3
   },
   "file_extension": ".py",
   "mimetype": "text/x-python",
   "name": "python",
   "nbconvert_exporter": "python",
   "pygments_lexer": "ipython3",
   "version": "3.6.9"
  }
 },
 "nbformat": 4,
 "nbformat_minor": 2
}
