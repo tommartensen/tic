{
 "cells": [
  {
   "cell_type": "markdown",
   "metadata": {},
   "source": [
    "# Complex Machine Learning Models\n",
    "\n",
    "Advanced machine learning models are not implicitly interpretable. \n",
    "A human with use-case specific knowledge cannot see the inner workings of a neural network, random forest, etc. with one glimpse. \n",
    "This notebooks builds such \"complex machine learning models\" from the \n",
    "[Breast cancer wisconsin (diagnostic) dataset](https://scikit-learn.org/stable/datasets/index.html#breast-cancer-wisconsin-diagnostic-dataset) provided with scikit-learn.\n",
    "\n",
    "Because this is just an example, this notebook contains two classifiers:\n",
    "\n",
    "* Logistic Regression\n",
    "* Random Forest Classifier\n",
    "* Multi-Layer Perceptron or Artificial Neural Network\n",
    "\n",
    "These are trained on the aforementioned dataset that contains 30 features and 569 total samples.\n",
    "The classifiers are stored on the local disk for downstream analysis.\n",
    "These two tables contain general information on the dataset and value statistics for the features.\n",
    "\n",
    "| | |\n",
    "|-|-|\n",
    "| Classes | 2 |\n",
    "| Samples per class | 212(M),357(B) |\n",
    "| Samples total | 569 |\n",
    "| Dimensionality | 30 |\n",
    "| Features | real, positive |\n",
    "\n",
    "| Feature | Average | Deviation |\n",
    "|-|-|-|\n",
    "| radius (mean) | 6.981 | 28.11 |\n",
    "| texture (mean) | 9.71 | 39.28 |\n",
    "| perimeter (mean) | 43.79 | 188.5 |\n",
    "| area (mean) | 143.5 | 2501.0 |\n",
    "| smoothness (mean) | 0.053 | 0.163 |\n",
    "| compactness (mean) | 0.019 | 0.345 |\n",
    "| concavity (mean) | 0.0 | 0.427 |\n",
    "| concave points (mean) | 0.0 | 0.201 |\n",
    "| symmetry (mean) | 0.106 | 0.304 |\n",
    "| fractal dimension (mean) | 0.05 | 0.097 |\n",
    "| radius (standard error) | 0.112 | 2.873 |\n",
    "| texture (standard error) | 0.36 | 4.885 |\n",
    "| perimeter (standard error) | 0.757 | 21.98 |\n",
    "| area (standard error) | 6.802 | 542.2 |\n",
    "| smoothness (standard error) | 0.002 | 0.031 |\n",
    "| compactness (standard error) | 0.002 | 0.135 |\n",
    "| concavity (standard error) | 0.0 | 0.396 |\n",
    "| concave points (standard error) | 0.0 | 0.053 |\n",
    "| symmetry (standard error) | 0.008 | 0.079 |\n",
    "| fractal dimension (standard error) | 0.001 | 0.03 |\n",
    "| radius (worst) | 7.93 | 36.04 |\n",
    "| texture (worst) | 12.02 | 49.54 |\n",
    "| perimeter (worst) | 50.41 | 251.2 |\n",
    "| area (worst) | 185.2 | 4254.0 |\n",
    "| smoothness (worst) | 0.071 | 0.223 |\n",
    "| compactness (worst) | 0.027 | 1.058 |\n",
    "| concavity (worst) | 0.0 | 1.252 |\n",
    "| concave points (worst) | 0.0 | 0.291 |\n",
    "| symmetry (worst) | 0.156 | 0.664 |\n",
    "| fractal dimension (worst) | 0.055 | 0.208 |"
   ]
  },
  {
   "cell_type": "code",
   "execution_count": null,
   "metadata": {},
   "outputs": [],
   "source": [
    "%load_ext autoreload\n",
    "%autoreload 2"
   ]
  },
  {
   "cell_type": "code",
   "execution_count": null,
   "metadata": {},
   "outputs": [],
   "source": [
    "import os\n",
    "import pickle\n",
    "\n",
    "from sklearn.ensemble import RandomForestClassifier\n",
    "from sklearn.linear_model import LogisticRegression\n",
    "from sklearn.metrics import (\n",
    "    precision_score, \n",
    "    recall_score, \n",
    "    accuracy_score, \n",
    "    roc_auc_score\n",
    ")\n",
    "from sklearn.neural_network import MLPClassifier\n",
    "from tic import load_test_data"
   ]
  },
  {
   "cell_type": "markdown",
   "metadata": {},
   "source": [
    "## Preparing the data\n",
    "\n",
    "Here, we load the data and create the datasets for training and testing."
   ]
  },
  {
   "cell_type": "code",
   "execution_count": null,
   "metadata": {},
   "outputs": [],
   "source": [
    "data = load_test_data()\n",
    "X_train, X_test, y_train, y_test = data['dataset'].values()"
   ]
  },
  {
   "cell_type": "markdown",
   "metadata": {},
   "source": [
    "## Building Classifiers\n",
    "\n",
    "In this part, we train two classifiers:\n",
    "\n",
    "* Logistic Regression\n",
    "* Random Forest\n",
    "* Multi-Layer Perceptron\n",
    "\n",
    "to predict whether a breast cancer tumor is benign or malignant."
   ]
  },
  {
   "cell_type": "markdown",
   "metadata": {},
   "source": [
    "## Logistic Regression"
   ]
  },
  {
   "cell_type": "code",
   "execution_count": null,
   "metadata": {},
   "outputs": [],
   "source": [
    "clf_lr = LogisticRegression(solver='lbfgs', max_iter=10000)\n",
    "clf_lr.fit(X_train, y_train)\n",
    "y_pred_lr = clf_lr.predict(X_test)"
   ]
  },
  {
   "cell_type": "markdown",
   "metadata": {},
   "source": [
    "### Random Forest Classifier"
   ]
  },
  {
   "cell_type": "code",
   "execution_count": null,
   "metadata": {},
   "outputs": [],
   "source": [
    "clf_rf = RandomForestClassifier(n_estimators=100)\n",
    "clf_rf.fit(X_train, y_train)\n",
    "y_pred_rf = clf_rf.predict(X_test)"
   ]
  },
  {
   "cell_type": "markdown",
   "metadata": {},
   "source": [
    "### Multi-Layer Perceptron Classifier"
   ]
  },
  {
   "cell_type": "code",
   "execution_count": null,
   "metadata": {},
   "outputs": [],
   "source": [
    "clf_mlp = MLPClassifier()\n",
    "clf_mlp.fit(X_train, y_train)\n",
    "y_pred_mlp = clf_mlp.predict(X_test)"
   ]
  },
  {
   "cell_type": "markdown",
   "metadata": {},
   "source": [
    "## Evaluation"
   ]
  },
  {
   "cell_type": "code",
   "execution_count": null,
   "metadata": {},
   "outputs": [],
   "source": [
    "print(f'''\n",
    "Logistic Regression:\n",
    "------------------------------\n",
    "Accuracy:   {accuracy_score(y_test, y_pred_lr)}\n",
    "Precision:  {precision_score(y_test, y_pred_lr)}\n",
    "Recall:     {recall_score(y_test, y_pred_lr)}\n",
    "AUROC:      {roc_auc_score(y_test, y_pred_lr)}\n",
    "\n",
    "Random Forest Classifier:\n",
    "------------------------------\n",
    "Accuracy:   {accuracy_score(y_test, y_pred_rf)}\n",
    "Precision:  {precision_score(y_test, y_pred_rf)}\n",
    "Recall:     {recall_score(y_test, y_pred_rf)}\n",
    "AUROC:      {roc_auc_score(y_test, y_pred_rf)}\n",
    "\n",
    "\n",
    "Multi-Layer Perceptron Classifier:\n",
    "----------------------------------\n",
    "Accuracy:   {accuracy_score(y_test, y_pred_mlp)}\n",
    "Precision:  {precision_score(y_test, y_pred_mlp)}\n",
    "Recall:     {recall_score(y_test, y_pred_mlp)}\n",
    "AUROC:      {roc_auc_score(y_test, y_pred_mlp)}\n",
    "''')"
   ]
  },
  {
   "cell_type": "markdown",
   "metadata": {},
   "source": [
    "## Persisting the classifiers\n",
    "\n",
    "For downstream interpretability analysis, the classifiers are persisted."
   ]
  },
  {
   "cell_type": "code",
   "execution_count": null,
   "metadata": {},
   "outputs": [],
   "source": [
    "directory = '.classifiers'\n",
    "if not os.path.exists(directory):\n",
    "    os.makedirs(directory)\n",
    "\n",
    "pickle.dump(clf_lr, open(f'{directory}/logistic_regression.clf', 'wb'))\n",
    "pickle.dump(clf_rf, open(f'{directory}/random_forest.clf', 'wb'))\n",
    "pickle.dump(clf_mlp, open(f'{directory}/multi_layer_perceptron.clf', 'wb'))"
   ]
  }
 ],
 "metadata": {
  "kernelspec": {
   "display_name": "Python 3",
   "language": "python",
   "name": "python3"
  },
  "language_info": {
   "codemirror_mode": {
    "name": "ipython",
    "version": 3
   },
   "file_extension": ".py",
   "mimetype": "text/x-python",
   "name": "python",
   "nbconvert_exporter": "python",
   "pygments_lexer": "ipython3",
   "version": "3.6.9"
  }
 },
 "nbformat": 4,
 "nbformat_minor": 2
}
